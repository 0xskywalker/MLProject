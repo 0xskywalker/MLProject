{
 "cells": [
  {
   "cell_type": "code",
   "execution_count": 1,
   "metadata": {},
   "outputs": [],
   "source": [
    "import csv\n",
    "import numpy as np\n",
    "import pandas as pd\n",
    "from sklearn.utils import shuffle\n",
    "from sklearn.model_selection import RepeatedKFold\n",
    "from sklearn.model_selection import RepeatedStratifiedKFold\n",
    "from sklearn.model_selection import cross_val_score\n",
    "from sklearn.tree import DecisionTreeClassifier, DecisionTreeRegressor\n",
    "from sklearn.ensemble import AdaBoostClassifier, AdaBoostRegressor\n",
    "from sklearn.ensemble import RandomForestClassifier, RandomForestRegressor\n",
    "from sklearn.naive_bayes import GaussianNB, BernoulliNB\n",
    "from sklearn.ensemble import BaggingClassifier, BaggingRegressor\n",
    "from sklearn.neighbors import KNeighborsClassifier, KNeighborsRegressor\n"
   ]
  },
  {
   "cell_type": "code",
   "execution_count": 2,
   "metadata": {},
   "outputs": [],
   "source": [
    "class Implementations():\n",
    "    def __init__(self, k, n):\n",
    "        self.k = k\n",
    "        self.n = n\n",
    "    def regression(self, data, target):\n",
    "        #10 times 5-fold cross validation\n",
    "        rkf = RepeatedKFold(n_splits=self.k, n_repeats=self.n, random_state=2)\n",
    "        score = 'neg_mean_absolute_error'\n",
    "        #Regression Algorithms\n",
    "        ID3 = DecisionTreeRegressor(criterion='mae')\n",
    "        Adaboost = AdaBoostRegressor(n_estimators=100)\n",
    "        RF = RandomForestRegressor(n_estimators=100)\n",
    "        NB = GaussianNB()\n",
    "        BG = BaggingRegressor(base_estimator=NB, n_estimators=100)\n",
    "        KNN_M = KNeighborsRegressor()\n",
    "        KNN_E = KNeighborsRegressor(metric='euclidean')\n",
    "        #cross validation and scoring\n",
    "        models = [ID3, Adaboost, RF, NB, BG, KNN_M, KNN_E]\n",
    "        names = ['id3', 'Adaboost on Tree stumps', 'Random Forest', 'NaiveBayes',\n",
    "                'Bagging with NaiveBayes', 'KNearestNeighbor with Minkowski metric',\n",
    "                'KNearestNeighbor with Euclidean metric']\n",
    "        for model, name in zip(models, names):\n",
    "            results = cross_val_score(model, data, target, scoring=score, cv=rkf)\n",
    "            print(name)\n",
    "            print(\"Accuracy - Mean Absolute Error: \", np.mean(results))\n",
    "            print(\"Standard deviation: \", np.std(results))\n",
    "    def classification(self, data, target):\n",
    "        #10 times stratified 5-fold cross validation\n",
    "        rsf = RepeatedStratifiedKFold(n_splits=self.k, n_repeats=self.n, random_state=2)\n",
    "        score = 'accuracy'\n",
    "        #Classification Algorithms\n",
    "        ID3 = DecisionTreeClassifier(criterion='entropy')\n",
    "        Adaboost = AdaBoostClassifier(n_estimators=100)\n",
    "        RF = RandomForestClassifier(n_estimators=100)\n",
    "        NB = GaussianNB()\n",
    "        BG = BaggingClassifier(base_estimator=NB, n_estimators=100)\n",
    "        KNN_M = KNeighborsClassifier(metric='minkowski')\n",
    "        KNN_E = KNeighborsClassifier(metric='euclidean')\n",
    "        #cross validation and scoring\n",
    "        models = [ID3, Adaboost, RF, NB, BG, KNN_M, KNN_E]\n",
    "        names = ['id3', 'Adaboost on Tree stumps', 'Random Forest', 'NaiveBayes',\n",
    "                'Bagging with NaiveBayes', 'KNearestNeighbor with Minkowski metric',\n",
    "                'KNearestNeighbor with Euclidean metric']\n",
    "        for model, name in zip(models, names):\n",
    "            results = cross_val_score(model, data, target, scoring=score, cv=rsf)\n",
    "            print(name)\n",
    "            print(\"Accuracy: \", np.mean(results))\n",
    "            print(\"Standard deviation: \", np.std(results))"
   ]
  },
  {
   "cell_type": "code",
   "execution_count": 4,
   "metadata": {},
   "outputs": [
    {
     "data": {
      "text/plain": [
       "<matplotlib.axes._subplots.AxesSubplot at 0x84c2db0>"
      ]
     },
     "execution_count": 4,
     "metadata": {},
     "output_type": "execute_result"
    },
    {
     "data": {
      "image/png": "[encoded data removed]",
      "text/plain": [
       "<matplotlib.figure.Figure at 0x84c2970>"
      ]
     },
     "metadata": {},
     "output_type": "display_data"
    }
   ],
   "source": [
    "#1. Breast Cancer Wiconsin.data\n",
    "#preprocessing\n",
    "h = ['ID Number', 'Radius', 'Texture', 'Perimeter', 'Area', 'Smoothness',\n",
    "    'Compactness', 'Concave points', 'Symmetry', 'Fractal dimension']\n",
    "load_cancer = pd.read_csv('breast-cancer-wisconsin.data', header=None, names=h)\n",
    "load_cancer = shuffle(load_cancer)\n",
    "df_cancer = load_cancer.replace('?', 0)\n",
    "\n",
    "cancer_target = df_cancer['Fractal dimension']\n",
    "cancer_data = df_cancer.iloc[:,0:9]\n",
    "\n",
    "#visualization\n",
    "load_cancer.plot(kind='hist')"
   ]
  },
  {
   "cell_type": "code",
   "execution_count": 6,
   "metadata": {},
   "outputs": [],
   "source": [
    "#5 Fold\n",
    "k = 5 \n",
    "#10 times\n",
    "n = 10\n",
    "Implementations(k, n).classification(cancer_data, cancer_target)"
   ]
  },
  {
   "cell_type": "code",
   "execution_count": 7,
   "metadata": {},
   "outputs": [],
   "source": [
    "#2. letter reognition.data\n",
    "#preprocessing\n",
    "h = ['Letter', 'x-box horizontal', 'y-box vertical', 'width of box',\n",
    "    'height of box', 'total on pixel', 'x-bar mean', 'y-bar mean',\n",
    "    'x2bar mean', 'y2bar mean', 'xybar mean', 'x2ybr mean', 'xy2bar mean',\n",
    "    'x_edge mean', 'xegvy correlation', 'y-edge mean', 'yegvx correlation']\n",
    "load_letter = pd.read_csv('letter-recognition.data', header=None, names=h)\n",
    "\n",
    "dic = {'A':1, 'B':2, 'C':3, 'D':4, 'E':5, 'F':6, 'G':7, 'H':8, 'I':9, 'J':10, 'K':11, 'L':12, 'M':13, 'N':14, 'O':15, 'P':16, 'Q':17, 'R':18, 'S':19, 'T':20, 'U':21, 'V':22, 'W':23, 'X':24, 'Y':25, 'Z':26}\n",
    "df_letter = load_letter.replace(dic)\n",
    "\n",
    "letter_target = df_letter['Letter']\n",
    "letter_data = df_letter.iloc[:,1:17]\n",
    "\n",
    "letter_target = letter_target.astype(int)\n",
    "letter_data = letter_data.astype(int)\n",
    "\n",
    "#visualization\n",
    "load_letter.plot(kind='hist')"
   ]
  },
  {
   "cell_type": "code",
   "execution_count": 8,
   "metadata": {},
   "outputs": [],
   "source": [
    "Implementations(k, n).classification(letter_data, letter_target)"
   ]
  },
  {
   "cell_type": "code",
   "execution_count": 9,
   "metadata": {},
   "outputs": [],
   "source": [
    "#3. Ecoli.data\n",
    "#preprocessing\n",
    "pd.set_option('display.max_rows', 1000)\n",
    "pd.set_option('display.max_columns', 100)\n",
    "pd.set_option('display.max_colwidth', 100)\n",
    "pd.set_option('display.width', None)\n",
    "pd.option_context('display.colheader_justify', 'right')\n",
    "\n",
    "load_ecoli = pd.read_csv('ecoli.data', header=None)\n",
    "a= load_ecoli.to_csv('ecoli.csv')\n",
    "\n",
    "file = open('ecoli.csv', 'r')\n",
    "ac = csv.reader(file)\n",
    "nload_ecoli = [['Sequence name', 'mcg', 'gvh', 'lip', 'chg', 'aac', 'alm1', 'alm2']]\n",
    "for row in ac:\n",
    "    data = row[1]\n",
    "    data = data.split()\n",
    "    data = data[1:9]\n",
    "    if data == []:\n",
    "        pass\n",
    "    elif data[7] == 'cp':\n",
    "        data[7] = 1\n",
    "        #nload_ecoli.append(data)\n",
    "    elif data[7] == 'im':\n",
    "        data[7] = 2\n",
    "    elif data[7] == 'pp':\n",
    "        data[7] = 3\n",
    "    elif data[7] == 'imU':\n",
    "        data[7] = 4\n",
    "    elif data[7] == 'om':\n",
    "        data[7] = 5\n",
    "    elif data[7] == 'omL':\n",
    "        data[7] = 6\n",
    "    elif data[7] == 'imL':\n",
    "        data[7] = 7\n",
    "    elif data[7] == 'imS':\n",
    "        data[7] = 8\n",
    "    for i in range(len(data)):\n",
    "        data[i] = float(data[i])\n",
    "    nload_ecoli.append(data)\n",
    "\n",
    "nload_ecoli.remove(['Sequence name', 'mcg', 'gvh', 'lip', 'chg', 'aac', 'alm1', 'alm2'])\n",
    "nload_ecoli.remove([])\n",
    "nload_ecoli = np.array(nload_ecoli)\n",
    "\n",
    "\n",
    "ecoli_target = nload_ecoli[:, -1]\n",
    "ecoli_data = nload_ecoli[:, :-1]\n"
   ]
  },
  {
   "cell_type": "code",
   "execution_count": 10,
   "metadata": {},
   "outputs": [],
   "source": [
    "Implementations(k, n).classification(ecoli_data, ecoli_target)"
   ]
  },
  {
   "cell_type": "code",
   "execution_count": 11,
   "metadata": {},
   "outputs": [],
   "source": [
    "#4. Car Evaluation.data\n",
    "\n",
    "#preprocessing\n",
    "headc = ['buying', 'maint', 'doors', 'persons', 'lug_boot', 'safety', 'class']\n",
    "load_car = pd.read_csv('car.data', header=None, names=headc)\n",
    "\n",
    "\n",
    "load_car['buying'] = load_car['buying'].replace({'vhigh': 1, 'high': 2, 'med': 3, 'low':4})\n",
    "load_car['maint'] = load_car['maint'].replace({'vhigh': 1, 'high': 2, 'med': 3, 'low': 4})\n",
    "load_car['doors'] = load_car['doors'].replace({'more': 6, '5more': 6})\n",
    "load_car['persons'] = load_car['persons'].replace('more', 6)\n",
    "load_car['lug_boot'] = load_car['lug_boot'].replace({'small': 1, 'med': 2, 'big': 3})\n",
    "load_car['safety'] = load_car['safety'].replace({'low':1, 'med': 2, 'high': 3})\n",
    "load_car['class'] = load_car['class'].replace({'unacc': 1, 'acc': 2, 'good': 3, 'vgood': 4})\n",
    "\n",
    "\n",
    "car_target = load_car['class']\n",
    "car_data = load_car.iloc[:,0:6]\n",
    "\n",
    "#visualization\n",
    "load_car.plot(kind='hist')"
   ]
  },
  {
   "cell_type": "code",
   "execution_count": 12,
   "metadata": {},
   "outputs": [],
   "source": [
    "Implementations(k, n).classification(car_data, car_target)"
   ]
  },
  {
   "cell_type": "code",
   "execution_count": 13,
   "metadata": {},
   "outputs": [],
   "source": [
    "#5. Mushroom.data\n",
    "\n",
    "#preprocessing\n",
    "h = ['target', 'cap-shape', 'cap-surface', 'cap-color', 'bruises', 'odor', 'gill-attc',\n",
    "    'gill-spacing', 'gill-size', 'gill-color', 'stalk-shape', 'stalk-root',\n",
    "    'stalk-surface-ar', 'stalk-surface-br', 'stalk-color-ar', 'stalk-color-br',\n",
    "    'veil-type', 'veil-color', 'ring-num', 'ring-type', 'spore-print-col',\n",
    "    'population', 'habitat']\n",
    "load_mushroom = pd.read_csv('mushroom.data', header=None, names=h)\n",
    "\n",
    "f0 = {'e':0, 'p':1}\n",
    "load_mushroom['target'] = load_mushroom['target'].replace(f0)\n",
    "f1 = {'b':1, 'c':2, 'x':3, 'f':4, 'k':5, 's':6}\n",
    "load_mushroom['cap-shape'] = load_mushroom['cap-shape'].replace(f1)\n",
    "f2 = {'f':1, 'g':2, 'y':3, 's':4}\n",
    "load_mushroom['cap-surface'] = load_mushroom['cap-surface'].replace(f2)\n",
    "f3 = {'n':1, 'b':2, 'c':3, 'g':4, 'r':5, 'p':6, 'u':7, 'e':6, 'w':7, 'y':8}\n",
    "load_mushroom['cap-color'] = load_mushroom['cap-color'].replace(f3)\n",
    "f4 = {'t':1, 'f':2}\n",
    "load_mushroom['bruises'] = load_mushroom['bruises'].replace(f4)\n",
    "f5 = {'a':1, 'l':2, 'c':3, 'y':4, 'f':5, 'm':6, 'n':7, 'p':8, 's':9}\n",
    "load_mushroom['odor'] = load_mushroom['odor'].replace(f5)\n",
    "f6 = {'a':1, 'd':2, 'f':3, 'n':4}\n",
    "load_mushroom['gill-attc'] = load_mushroom['gill-attc'].replace(f6)\n",
    "f7 = {'c':1, 'w':2, 'd':3}\n",
    "load_mushroom['gill-spacing'] = load_mushroom['gill-spacing'].replace(f7)\n",
    "f8 = {'b':1, 'n':2}\n",
    "load_mushroom['gill-size'] = load_mushroom['gill-size'].replace(f8)\n",
    "f9 = {'k':1, 'n':2, 'b':3, 'h':4, 'g':5, 'r':6, 'o':7, 'p':8, 'u':9, 'e':10, 'w':11, 'y':12}\n",
    "load_mushroom['gill-color'] = load_mushroom['gill-color'].replace(f9)\n",
    "f10 = {'e':1, 't':2}\n",
    "load_mushroom['stalk-shape'] = load_mushroom['stalk-shape'].replace(f10)\n",
    "f11 = {'b':1, 'c':2, 'u':3, 'e':4, 'z':5, 'r':6, '?':0}\n",
    "load_mushroom['stalk-root'] = load_mushroom['stalk-root'].replace(f11)\n",
    "f12 = {'f':1, 'y':2, 'k':3, 's':4}\n",
    "load_mushroom['stalk-surface-ar'] = load_mushroom['stalk-surface-ar'].replace(f12)\n",
    "load_mushroom['stalk-surface-br'] = load_mushroom['stalk-surface-br'].replace(f12)\n",
    "f13 = {'n':1, 'b':2, 'c':3, 'g':4, 'o':5, 'p':6, 'e':7, 'w':8, 'y':9}\n",
    "load_mushroom['stalk-color-ar'] = load_mushroom['stalk-color-ar'].replace(f13)\n",
    "load_mushroom['stalk-color-br'] = load_mushroom['stalk-color-br'].replace(f13)\n",
    "f14 = {'p':1, 'u':2}\n",
    "load_mushroom['veil-type'] = load_mushroom['veil-type'].replace(f14)\n",
    "f15 = {'n':1, 'o':2, 'w':3, 'y':4}\n",
    "load_mushroom['veil-color'] = load_mushroom['veil-color'].replace(f15)\n",
    "f16 = {'n':1, 'o':2, 't':3}\n",
    "load_mushroom['ring-num'] = load_mushroom['ring-num'].replace(f16)\n",
    "f17 = {'c':1, 'e':2, 'f':3, 'l':4, 'n':5, 'p':6, 's':7, 'z':8}\n",
    "load_mushroom['ring-type'] = load_mushroom['ring-type'].replace(f17)\n",
    "f18 = {'k':1, 'n':2, 'b':3, 'h':4, 'r':5, 'o':6, 'u':7, 'w':8, 'y':9}\n",
    "load_mushroom['spore-print-col'] = load_mushroom['spore-print-col'].replace(f18)\n",
    "f19 = {'a':1, 'c':2, 'n':3, 's':4, 'v':5, 'y':6}\n",
    "load_mushroom['population'] = load_mushroom['population'].replace(f19)\n",
    "f20 = {'g':1, 'l':2, 'm':3, 'p':4, 'u':5, 'w':6, 'd':7}\n",
    "load_mushroom['habitat'] = load_mushroom['habitat'].replace(f20)\n",
    "\n",
    "mushroom_target = load_mushroom['target']\n",
    "mushroom_data = load_mushroom.iloc[:,1:23]\n",
    "\n",
    "#visualization\n",
    "load_mushroom.plot(kind='hist')\n"
   ]
  },
  {
   "cell_type": "code",
   "execution_count": 14,
   "metadata": {},
   "outputs": [
    {
     "name": "stdout",
     "output_type": "stream",
     "text": [
      "id3\n",
      "Accuracy:  1.0\n",
      "Standard deviation:  0.0\n",
      "Adaboost on Tree stumps\n",
      "Accuracy:  1.0\n",
      "Standard deviation:  0.0\n",
      "Random Forest\n",
      "Accuracy:  1.0\n",
      "Standard deviation:  0.0\n",
      "NaiveBayes\n",
      "Accuracy:  0.844915733278894\n",
      "Standard deviation:  0.010449078564665504\n",
      "Bagging with NaiveBayes\n",
      "Accuracy:  0.842761621556117\n",
      "Standard deviation:  0.010654864834539401\n",
      "KNearestNeighbor with Minkowski metric\n",
      "Accuracy:  0.9997292155373998\n",
      "Standard deviation:  0.0005923620586867294\n",
      "KNearestNeighbor with Euclidean metric\n",
      "Accuracy:  0.9997292155373998\n",
      "Standard deviation:  0.0005923620586867294\n"
     ]
    }
   ],
   "source": [
    "Implementations(k, n).classification(mushroom_data, mushroom_target)"
   ]
  },
  {
   "cell_type": "code",
   "execution_count": null,
   "metadata": {},
   "outputs": [],
   "source": []
  }
 ],
 "metadata": {
  "kernelspec": {
   "display_name": "Python 3",
   "language": "python",
   "name": "python3"
  },
  "language_info": {
   "codemirror_mode": {
    "name": "ipython",
    "version": 3
   },
   "file_extension": ".py",
   "mimetype": "text/x-python",
   "name": "python",
   "nbconvert_exporter": "python",
   "pygments_lexer": "ipython3",
   "version": "3.6.4"
  }
 },
 "nbformat": 4,
 "nbformat_minor": 2
}
